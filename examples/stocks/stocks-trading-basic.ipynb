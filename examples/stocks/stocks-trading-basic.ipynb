{
  "cells": [
    {
      "cell_type": "markdown",
      "metadata": {
        "id": "swPzQo9PJbRY"
      },
      "source": [
        "# Alpaca-py stock trading basic"
      ]
    },
    {
      "cell_type": "markdown",
      "metadata": {
        "id": "pWIUkFLvJbRa"
      },
      "source": [
        "[![Open In Colab](https://colab.research.google.com/assets/colab-badge.svg)](https://colab.research.google.com/github/alpacahq/alpaca-py/blob/master/examples/stocks/stocks-trading-basic.ipynb)"
      ]
    },
    {
      "cell_type": "markdown",
      "metadata": {
        "id": "Gtz7fWq0JbRa"
      },
      "source": [
        "- This notebook shows how to use alpaca-py with stock trading API endpoints\n",
        "- Please use ``paper account``. Please ``DO NOT`` use this notebook with live account. In this notebook, we place orders for stocks as an example."
      ]
    },
    {
      "cell_type": "code",
      "execution_count": 1,
      "metadata": {
        "jupyter": {
          "is_executing": true
        },
        "id": "KDgW578aJbRa"
      },
      "outputs": [],
      "source": [
        "# Please change the following to your own PAPER api key and secret\n",
        "# or set them as environment variables (ALPACA_API_KEY, ALPACA_SECRET_KEY).\n",
        "# You can get them from https://alpaca.markets/\n",
        "\n",
        "api_key = \"PKGR0EQDI6Z9Z654NJ6Y\"\n",
        "secret_key = 'DmAJRj7JHdPlKBDHDtnOdvXa9TUXyBnaPGmyPwSQ'\n",
        "\n",
        "#### We use paper environment for this example ####\n",
        "paper = True # Please do not modify this. This example is for paper trading only.\n",
        "####\n",
        "\n",
        "# Below are the variables for development this documents\n",
        "# Please do not change these variables\n",
        "trade_api_url = None\n",
        "trade_api_wss = None\n",
        "data_api_url = None\n",
        "stream_data_wss = None"
      ]
    },
    {
      "cell_type": "code",
      "execution_count": 2,
      "metadata": {
        "id": "kwm2keNIJbRb"
      },
      "outputs": [],
      "source": [
        "import os\n",
        "\n",
        "if api_key is None:\n",
        "    api_key = os.environ.get('ALPACA_API_KEY')\n",
        "\n",
        "if secret_key is None:\n",
        "    secret_key = os.environ.get('ALPACA_SECRET_KEY')"
      ]
    },
    {
      "cell_type": "code",
      "execution_count": 3,
      "metadata": {
        "colab": {
          "base_uri": "https://localhost:8080/"
        },
        "id": "JS2uFEvGJbRb",
        "outputId": "c99e29dc-9b07-47c2-edb6-40fc4340f7fb"
      },
      "outputs": [
        {
          "output_type": "stream",
          "name": "stdout",
          "text": [
            "Collecting alpaca-py\n",
            "  Downloading alpaca_py-0.42.0-py3-none-any.whl.metadata (13 kB)\n",
            "Requirement already satisfied: msgpack<2.0.0,>=1.0.3 in /usr/local/lib/python3.11/dist-packages (from alpaca-py) (1.1.1)\n",
            "Requirement already satisfied: pandas>=1.5.3 in /usr/local/lib/python3.11/dist-packages (from alpaca-py) (2.2.2)\n",
            "Requirement already satisfied: pydantic<3.0.0,>=2.0.3 in /usr/local/lib/python3.11/dist-packages (from alpaca-py) (2.11.7)\n",
            "Requirement already satisfied: requests<3.0.0,>=2.30.0 in /usr/local/lib/python3.11/dist-packages (from alpaca-py) (2.32.3)\n",
            "Collecting sseclient-py<2.0.0,>=1.7.2 (from alpaca-py)\n",
            "  Downloading sseclient_py-1.8.0-py2.py3-none-any.whl.metadata (2.0 kB)\n",
            "Requirement already satisfied: websockets>=10.4 in /usr/local/lib/python3.11/dist-packages (from alpaca-py) (15.0.1)\n",
            "Requirement already satisfied: numpy>=1.23.2 in /usr/local/lib/python3.11/dist-packages (from pandas>=1.5.3->alpaca-py) (2.0.2)\n",
            "Requirement already satisfied: python-dateutil>=2.8.2 in /usr/local/lib/python3.11/dist-packages (from pandas>=1.5.3->alpaca-py) (2.9.0.post0)\n",
            "Requirement already satisfied: pytz>=2020.1 in /usr/local/lib/python3.11/dist-packages (from pandas>=1.5.3->alpaca-py) (2025.2)\n",
            "Requirement already satisfied: tzdata>=2022.7 in /usr/local/lib/python3.11/dist-packages (from pandas>=1.5.3->alpaca-py) (2025.2)\n",
            "Requirement already satisfied: annotated-types>=0.6.0 in /usr/local/lib/python3.11/dist-packages (from pydantic<3.0.0,>=2.0.3->alpaca-py) (0.7.0)\n",
            "Requirement already satisfied: pydantic-core==2.33.2 in /usr/local/lib/python3.11/dist-packages (from pydantic<3.0.0,>=2.0.3->alpaca-py) (2.33.2)\n",
            "Requirement already satisfied: typing-extensions>=4.12.2 in /usr/local/lib/python3.11/dist-packages (from pydantic<3.0.0,>=2.0.3->alpaca-py) (4.14.1)\n",
            "Requirement already satisfied: typing-inspection>=0.4.0 in /usr/local/lib/python3.11/dist-packages (from pydantic<3.0.0,>=2.0.3->alpaca-py) (0.4.1)\n",
            "Requirement already satisfied: charset-normalizer<4,>=2 in /usr/local/lib/python3.11/dist-packages (from requests<3.0.0,>=2.30.0->alpaca-py) (3.4.2)\n",
            "Requirement already satisfied: idna<4,>=2.5 in /usr/local/lib/python3.11/dist-packages (from requests<3.0.0,>=2.30.0->alpaca-py) (3.10)\n",
            "Requirement already satisfied: urllib3<3,>=1.21.1 in /usr/local/lib/python3.11/dist-packages (from requests<3.0.0,>=2.30.0->alpaca-py) (2.4.0)\n",
            "Requirement already satisfied: certifi>=2017.4.17 in /usr/local/lib/python3.11/dist-packages (from requests<3.0.0,>=2.30.0->alpaca-py) (2025.7.9)\n",
            "Requirement already satisfied: six>=1.5 in /usr/local/lib/python3.11/dist-packages (from python-dateutil>=2.8.2->pandas>=1.5.3->alpaca-py) (1.17.0)\n",
            "Downloading alpaca_py-0.42.0-py3-none-any.whl (121 kB)\n",
            "\u001b[2K   \u001b[90m━━━━━━━━━━━━━━━━━━━━━━━━━━━━━━━━━━━━━━━━\u001b[0m \u001b[32m122.0/122.0 kB\u001b[0m \u001b[31m3.5 MB/s\u001b[0m eta \u001b[36m0:00:00\u001b[0m\n",
            "\u001b[?25hDownloading sseclient_py-1.8.0-py2.py3-none-any.whl (8.8 kB)\n",
            "Installing collected packages: sseclient-py, alpaca-py\n",
            "Successfully installed alpaca-py-0.42.0 sseclient-py-1.8.0\n"
          ]
        }
      ],
      "source": [
        "# install alpaca-py if it is not available\n",
        "try:\n",
        "    import alpaca\n",
        "except ImportError:\n",
        "    !python3 -m pip install alpaca-py\n",
        "    import alpaca"
      ]
    },
    {
      "cell_type": "code",
      "execution_count": 4,
      "metadata": {
        "id": "RdeV6tSWJbRc"
      },
      "outputs": [],
      "source": [
        "from datetime import datetime, timedelta\n",
        "from zoneinfo import ZoneInfo\n",
        "\n",
        "from alpaca.trading.client import TradingClient\n",
        "from alpaca.data.timeframe import TimeFrame, TimeFrameUnit\n",
        "from alpaca.data.historical.corporate_actions import CorporateActionsClient\n",
        "from alpaca.data.historical.stock import StockHistoricalDataClient\n",
        "from alpaca.trading.stream import TradingStream\n",
        "from alpaca.data.live.stock import StockDataStream\n",
        "\n",
        "from alpaca.data.requests import (\n",
        "    CorporateActionsRequest,\n",
        "    StockBarsRequest,\n",
        "    StockQuotesRequest,\n",
        "    StockTradesRequest,\n",
        ")\n",
        "from alpaca.trading.requests import (\n",
        "    ClosePositionRequest,\n",
        "    GetAssetsRequest,\n",
        "    GetOrdersRequest,\n",
        "    LimitOrderRequest,\n",
        "    MarketOrderRequest,\n",
        "    StopLimitOrderRequest,\n",
        "    StopLossRequest,\n",
        "    StopOrderRequest,\n",
        "    TakeProfitRequest,\n",
        "    TrailingStopOrderRequest,\n",
        ")\n",
        "from alpaca.trading.enums import (\n",
        "    AssetExchange,\n",
        "    AssetStatus,\n",
        "    OrderClass,\n",
        "    OrderSide,\n",
        "    OrderType,\n",
        "    QueryOrderStatus,\n",
        "    TimeInForce,\n",
        ")"
      ]
    },
    {
      "cell_type": "code",
      "execution_count": 5,
      "metadata": {
        "id": "IRovvTelJbRc"
      },
      "outputs": [],
      "source": [
        "# to run async code in jupyter notebook\n",
        "import nest_asyncio\n",
        "nest_asyncio.apply()"
      ]
    },
    {
      "cell_type": "code",
      "execution_count": 6,
      "metadata": {
        "colab": {
          "base_uri": "https://localhost:8080/",
          "height": 35
        },
        "id": "pWu2iOXTJbRc",
        "outputId": "73b7cfd7-6bfa-4903-d10f-c0acb1175d0d"
      },
      "outputs": [
        {
          "output_type": "execute_result",
          "data": {
            "text/plain": [
              "'0.42.0'"
            ],
            "application/vnd.google.colaboratory.intrinsic+json": {
              "type": "string"
            }
          },
          "metadata": {},
          "execution_count": 6
        }
      ],
      "source": [
        "# check version of alpaca-py\n",
        "alpaca.__version__"
      ]
    },
    {
      "cell_type": "markdown",
      "metadata": {
        "id": "GH3Hnf6YJbRc"
      },
      "source": [
        "# Trading Client"
      ]
    },
    {
      "cell_type": "code",
      "execution_count": 7,
      "metadata": {
        "id": "_SJVwVmPJbRc"
      },
      "outputs": [],
      "source": [
        "# setup clients\n",
        "trade_client = TradingClient(api_key=api_key, secret_key=secret_key, paper=paper, url_override=trade_api_url)"
      ]
    },
    {
      "cell_type": "code",
      "execution_count": 8,
      "metadata": {
        "colab": {
          "base_uri": "https://localhost:8080/"
        },
        "id": "eaU3JLx9JbRc",
        "outputId": "2483c8bf-532a-42f9-e663-93b82f7129a5"
      },
      "outputs": [
        {
          "output_type": "execute_result",
          "data": {
            "text/plain": [
              "{   'account_blocked': False,\n",
              "    'account_number': 'PA3KQRVH7KGD',\n",
              "    'accrued_fees': '0',\n",
              "    'buying_power': '200000',\n",
              "    'cash': '100000',\n",
              "    'created_at': datetime.datetime(2025, 7, 10, 13, 25, 32, 430818, tzinfo=TzInfo(UTC)),\n",
              "    'crypto_status': <AccountStatus.ACTIVE: 'ACTIVE'>,\n",
              "    'currency': 'USD',\n",
              "    'daytrade_count': 0,\n",
              "    'daytrading_buying_power': '0',\n",
              "    'equity': '100000',\n",
              "    'id': UUID('610d0baa-f64e-4166-992f-ebc154ae642f'),\n",
              "    'initial_margin': '0',\n",
              "    'last_equity': '100000',\n",
              "    'last_maintenance_margin': '0',\n",
              "    'long_market_value': '0',\n",
              "    'maintenance_margin': '0',\n",
              "    'multiplier': '2',\n",
              "    'non_marginable_buying_power': '100000',\n",
              "    'options_approved_level': 3,\n",
              "    'options_buying_power': '100000',\n",
              "    'options_trading_level': 3,\n",
              "    'pattern_day_trader': False,\n",
              "    'pending_transfer_in': None,\n",
              "    'pending_transfer_out': None,\n",
              "    'portfolio_value': '100000',\n",
              "    'regt_buying_power': '200000',\n",
              "    'short_market_value': '0',\n",
              "    'shorting_enabled': True,\n",
              "    'sma': '100000',\n",
              "    'status': <AccountStatus.ACTIVE: 'ACTIVE'>,\n",
              "    'trade_suspended_by_user': False,\n",
              "    'trading_blocked': False,\n",
              "    'transfers_blocked': False}"
            ]
          },
          "metadata": {},
          "execution_count": 8
        }
      ],
      "source": [
        "# check trading account\n",
        "# You can check definition of each field in the following documents\n",
        "# ref. https://docs.alpaca.markets/docs/account-plans\n",
        "# ref. https://docs.alpaca.markets/reference/getaccount-1\n",
        "acct = trade_client.get_account()\n",
        "acct"
      ]
    },
    {
      "cell_type": "code",
      "execution_count": 9,
      "metadata": {
        "colab": {
          "base_uri": "https://localhost:8080/"
        },
        "id": "xPkpRvAxJbRd",
        "outputId": "e31913c1-e877-4ecf-b4fb-ecfca661f881"
      },
      "outputs": [
        {
          "output_type": "execute_result",
          "data": {
            "text/plain": [
              "{   'dtbp_check': <DTBPCheck.ENTRY: 'entry'>,\n",
              "    'fractional_trading': True,\n",
              "    'max_margin_multiplier': '4',\n",
              "    'max_options_trading_level': None,\n",
              "    'no_shorting': False,\n",
              "    'pdt_check': <PDTCheck.ENTRY: 'entry'>,\n",
              "    'ptp_no_exception_entry': False,\n",
              "    'suspend_trade': False,\n",
              "    'trade_confirm_email': <TradeConfirmationEmail.ALL: 'all'>}"
            ]
          },
          "metadata": {},
          "execution_count": 9
        }
      ],
      "source": [
        "# check account configuration\n",
        "# ref. https://docs.alpaca.markets/reference/getaccountconfig-1\n",
        "acct_config = trade_client.get_account_configurations()\n",
        "acct_config"
      ]
    },
    {
      "cell_type": "code",
      "execution_count": 10,
      "metadata": {
        "colab": {
          "base_uri": "https://localhost:8080/",
          "height": 329
        },
        "id": "__Osz4bPJbRd",
        "outputId": "1d541023-15b2-4cb1-db40-67be9d99cbc9"
      },
      "outputs": [
        {
          "output_type": "display_data",
          "data": {
            "text/plain": [
              "{   'dtbp_check': <DTBPCheck.ENTRY: 'entry'>,\n",
              "    'fractional_trading': False,\n",
              "    'max_margin_multiplier': '4',\n",
              "    'max_options_trading_level': None,\n",
              "    'no_shorting': False,\n",
              "    'pdt_check': <PDTCheck.ENTRY: 'entry'>,\n",
              "    'ptp_no_exception_entry': False,\n",
              "    'suspend_trade': False,\n",
              "    'trade_confirm_email': <TradeConfirmationEmail.ALL: 'all'>}"
            ]
          },
          "metadata": {}
        },
        {
          "output_type": "display_data",
          "data": {
            "text/plain": [
              "{   'dtbp_check': <DTBPCheck.ENTRY: 'entry'>,\n",
              "    'fractional_trading': True,\n",
              "    'max_margin_multiplier': '4',\n",
              "    'max_options_trading_level': None,\n",
              "    'no_shorting': False,\n",
              "    'pdt_check': <PDTCheck.ENTRY: 'entry'>,\n",
              "    'ptp_no_exception_entry': False,\n",
              "    'suspend_trade': False,\n",
              "    'trade_confirm_email': <TradeConfirmationEmail.ALL: 'all'>}"
            ]
          },
          "metadata": {}
        }
      ],
      "source": [
        "# set account configuration\n",
        "# ref. https://docs.alpaca.markets/reference/patchaccountconfig-1\n",
        "req = acct_config\n",
        "req.fractional_trading = not req.fractional_trading # toggle fractional trading\n",
        "acct_config_new = trade_client.set_account_configurations(req)\n",
        "display(acct_config_new)\n",
        "\n",
        "# revert changes\n",
        "req = acct_config_new\n",
        "req.fractional_trading = not req.fractional_trading # toggle fractional trading\n",
        "acct_config_reverted = trade_client.set_account_configurations(req)\n",
        "display(acct_config_reverted)"
      ]
    },
    {
      "cell_type": "code",
      "execution_count": 11,
      "metadata": {
        "colab": {
          "base_uri": "https://localhost:8080/"
        },
        "id": "2IfPHvJhJbRd",
        "outputId": "0c0de687-bfeb-4467-9ff1-a5c722787e04"
      },
      "outputs": [
        {
          "output_type": "execute_result",
          "data": {
            "text/plain": [
              "[{   'asset_class': <AssetClass.US_EQUITY: 'us_equity'>,\n",
              "     'attributes': [],\n",
              "     'easy_to_borrow': False,\n",
              "     'exchange': <AssetExchange.NASDAQ: 'NASDAQ'>,\n",
              "     'fractionable': False,\n",
              "     'id': UUID('62555608-7e26-476b-b698-17a74f6ef56e'),\n",
              "     'maintenance_margin_requirement': 100.0,\n",
              "     'marginable': False,\n",
              "     'min_order_size': None,\n",
              "     'min_trade_increment': None,\n",
              "     'name': 'Fitell Corporation Ordinary Shares',\n",
              "     'price_increment': None,\n",
              "     'shortable': False,\n",
              "     'status': <AssetStatus.ACTIVE: 'active'>,\n",
              "     'symbol': 'FTEL',\n",
              "     'tradable': False},\n",
              " {   'asset_class': <AssetClass.US_EQUITY: 'us_equity'>,\n",
              "     'attributes': [],\n",
              "     'easy_to_borrow': False,\n",
              "     'exchange': <AssetExchange.NASDAQ: 'NASDAQ'>,\n",
              "     'fractionable': False,\n",
              "     'id': UUID('baba92b1-5292-46a7-ba68-76b5682a8f2f'),\n",
              "     'maintenance_margin_requirement': 100.0,\n",
              "     'marginable': False,\n",
              "     'min_order_size': None,\n",
              "     'min_trade_increment': None,\n",
              "     'name': 'Intelligent Living Application Group Inc. Ordinary Shares',\n",
              "     'price_increment': None,\n",
              "     'shortable': False,\n",
              "     'status': <AssetStatus.ACTIVE: 'active'>,\n",
              "     'symbol': 'ILAG',\n",
              "     'tradable': False}]"
            ]
          },
          "metadata": {},
          "execution_count": 11
        }
      ],
      "source": [
        "# get list of assets which are us_equity (default), active, and in NASDAQ\n",
        "# ref. https://docs.alpaca.markets/reference/get-v2-assets-1\n",
        "req = GetAssetsRequest(\n",
        "  # asset_class=AssetClass.US_EQUITY,  # default asset_class is us_equity\n",
        "  status=AssetStatus.ACTIVE,\n",
        "  exchange=AssetExchange.NASDAQ,\n",
        ")\n",
        "assets = trade_client.get_all_assets(req)\n",
        "assets[:2]"
      ]
    },
    {
      "cell_type": "markdown",
      "metadata": {
        "id": "WtsVXlM4JbRd"
      },
      "source": [
        "### Orders"
      ]
    },
    {
      "cell_type": "code",
      "execution_count": null,
      "metadata": {
        "id": "n7UKoXHFJbRd"
      },
      "outputs": [],
      "source": [
        "# we will place orders which Alapca trading platform supports\n",
        "# - order classes: simple, bracket, oco, oto\n",
        "# - order types: market, limit, stop, stop_limit, trailing_stop\n",
        "#\n",
        "# please refer to the following documents for more details\n",
        "# ref. https://docs.alpaca.markets/docs/orders-at-alpaca\n",
        "# ref. https://docs.alpaca.markets/reference/postorder\n",
        "#\n",
        "# we will also use fractional trading capability of Alpaca trading platform in this example\n",
        "# ref. https://docs.alpaca.markets/docs/fractional-trading\n",
        "\n",
        "# we will place orders for symbol: AAPL in this example\n",
        "symbol = \"AAPL\""
      ]
    },
    {
      "cell_type": "code",
      "execution_count": null,
      "metadata": {
        "id": "FFbNfdv5JbRd"
      },
      "outputs": [],
      "source": [
        "# simple, market order, fractional qty\n",
        "# Alpaca trading platform support fractional trading by default\n",
        "# you can specify:\n",
        "# fractional qty (e.g. 0.01 qty) in the order request (which is shown in this example)\n",
        "# or notional value (e.g. 100 USD) (which is in the next example)\n",
        "#\n",
        "# If you have an error of `qty must be integer`,\n",
        "# please try to `Reset Account` of your paper account via the Alpaca Trading API dashboard\n",
        "req = MarketOrderRequest(\n",
        "    symbol = symbol,\n",
        "    qty = 5.5,\n",
        "    side = OrderSide.BUY,\n",
        "    type = OrderType.MARKET,\n",
        "    time_in_force = TimeInForce.DAY,\n",
        ")\n",
        "res = trade_client.submit_order(req)\n",
        "res"
      ]
    },
    {
      "cell_type": "code",
      "execution_count": null,
      "metadata": {
        "id": "a_3UUe9CJbRd"
      },
      "outputs": [],
      "source": [
        "# simple, market order, notional\n",
        "# Alpaca trading platform support fractional trading by default\n",
        "# you can specify:\n",
        "# fractional qty (e.g. 0.01 qty) in the order request (which is in the example above)\n",
        "# or notional value (e.g. 100 USD) (which is in this example)\n",
        "req = MarketOrderRequest(\n",
        "    symbol = symbol,\n",
        "    notional = 1.11,  # notional is specified in USD, here we specify $1.11\n",
        "    side = OrderSide.BUY,\n",
        "    type = OrderType.MARKET,\n",
        "    time_in_force = TimeInForce.DAY,\n",
        ")\n",
        "res = trade_client.submit_order(req)\n",
        "res"
      ]
    },
    {
      "cell_type": "code",
      "execution_count": null,
      "metadata": {
        "id": "ovdAd-MfJbRd"
      },
      "outputs": [],
      "source": [
        "# simple, limit order, fractional qty\n",
        "req = LimitOrderRequest(\n",
        "    symbol = symbol,\n",
        "    qty = 0.01,\n",
        "    limit_price = 550.25,\n",
        "    side = OrderSide.BUY,\n",
        "    type = OrderType.LIMIT,\n",
        "    time_in_force = TimeInForce.DAY,\n",
        ")\n",
        "res = trade_client.submit_order(req)\n",
        "res"
      ]
    },
    {
      "cell_type": "code",
      "execution_count": null,
      "metadata": {
        "id": "Hp8a1LjmJbRd"
      },
      "outputs": [],
      "source": [
        "# stop order\n",
        "req = StopOrderRequest(\n",
        "                    symbol = symbol,\n",
        "                    qty = 1,\n",
        "                    side = OrderSide.BUY,\n",
        "                    time_in_force = TimeInForce.GTC,\n",
        "                    stop_price = 600\n",
        "                    )\n",
        "\n",
        "res = trade_client.submit_order(req)\n",
        "res"
      ]
    },
    {
      "cell_type": "code",
      "execution_count": null,
      "metadata": {
        "id": "Qz1rnD9ZJbRd"
      },
      "outputs": [],
      "source": [
        "# stop limit order\n",
        "req = StopLimitOrderRequest(\n",
        "                    symbol = symbol,\n",
        "                    qty = 1,\n",
        "                    side = OrderSide.BUY,\n",
        "                    time_in_force = TimeInForce.GTC,\n",
        "                    limit_price = 550,\n",
        "                    stop_price = 600\n",
        "                    )\n",
        "\n",
        "res = trade_client.submit_order(req)\n",
        "res"
      ]
    },
    {
      "cell_type": "code",
      "execution_count": null,
      "metadata": {
        "id": "AdPlIbjsJbRd"
      },
      "outputs": [],
      "source": [
        "# bracket order with both stop loss and take profit\n",
        "req = MarketOrderRequest(\n",
        "                    symbol = symbol,\n",
        "                    qty = 5,\n",
        "                    side = OrderSide.BUY,\n",
        "                    time_in_force = TimeInForce.DAY,\n",
        "                    order_class = OrderClass.BRACKET,\n",
        "                    take_profit = TakeProfitRequest(limit_price=600),\n",
        "                    stop_loss = StopLossRequest(stop_price=300)\n",
        ")\n",
        "res = trade_client.submit_order(req)\n",
        "res"
      ]
    },
    {
      "cell_type": "code",
      "execution_count": null,
      "metadata": {
        "id": "CCn4nVJ9JbRd"
      },
      "outputs": [],
      "source": [
        "# oto order with stop loss\n",
        "req = LimitOrderRequest(\n",
        "                    symbol = symbol,\n",
        "                    qty = 1,\n",
        "                    limit_price = 500,\n",
        "                    side = OrderSide.BUY,\n",
        "                    time_in_force = TimeInForce.DAY,\n",
        "                    Class = OrderClass.OTO,\n",
        "                    stop_loss = StopLossRequest(stop_price = 300)\n",
        "                    )\n",
        "\n",
        "res = trade_client.submit_order(req)\n",
        "res"
      ]
    },
    {
      "cell_type": "code",
      "execution_count": null,
      "metadata": {
        "id": "8tZOXvdaJbRd"
      },
      "outputs": [],
      "source": [
        "# oco limit order\n",
        "req = LimitOrderRequest(\n",
        "                    symbol = symbol,\n",
        "                    qty = 1,\n",
        "                    limit_price = 500,\n",
        "                    side = OrderSide.BUY,\n",
        "                    time_in_force = TimeInForce.DAY,\n",
        "                    Class = OrderClass.OCO\n",
        "                    )\n",
        "\n",
        "res = trade_client.submit_order(req)\n",
        "res"
      ]
    },
    {
      "cell_type": "code",
      "execution_count": null,
      "metadata": {
        "id": "MZ9ZIpx-JbRd"
      },
      "outputs": [],
      "source": [
        "# trailing stop order\n",
        "req = TrailingStopOrderRequest(\n",
        "                    symbol = symbol,\n",
        "                    qty = 1,\n",
        "                    side = OrderSide.SELL,\n",
        "                    time_in_force = TimeInForce.GTC,\n",
        "                    trail_percent = 0.20 # you can also use trail_price instead of trail_percent\n",
        "                    )\n",
        "\n",
        "res = trade_client.submit_order(req)\n",
        "res"
      ]
    },
    {
      "cell_type": "code",
      "execution_count": null,
      "metadata": {
        "id": "5H6dZ_dkJbRd"
      },
      "outputs": [],
      "source": [
        "# get a list of orders including closed (e.g. filled) orders by specifying symbol\n",
        "req = GetOrdersRequest(\n",
        "    status = QueryOrderStatus.ALL,\n",
        "    symbols = [symbol]\n",
        ")\n",
        "orders = trade_client.get_orders(req)\n",
        "orders"
      ]
    },
    {
      "cell_type": "code",
      "execution_count": null,
      "metadata": {
        "id": "JKJIHHffJbRd"
      },
      "outputs": [],
      "source": [
        "# see all open orders\n",
        "req = GetOrdersRequest(\n",
        "    status = QueryOrderStatus.OPEN,\n",
        "    symbols = [symbol]\n",
        ")\n",
        "open_orders = trade_client.get_orders(req)\n",
        "open_orders"
      ]
    },
    {
      "cell_type": "code",
      "execution_count": null,
      "metadata": {
        "id": "ISRF9EjpJbRe"
      },
      "outputs": [],
      "source": [
        "# cancel all open orders\n",
        "trade_client.cancel_orders()"
      ]
    },
    {
      "cell_type": "markdown",
      "metadata": {
        "id": "yHosepBiJbRe"
      },
      "source": [
        "### Positions"
      ]
    },
    {
      "cell_type": "code",
      "execution_count": null,
      "metadata": {
        "id": "erYcCQiqJbRe"
      },
      "outputs": [],
      "source": [
        "# get all open positions\n",
        "# ref. https://docs.alpaca.markets/reference/getallopenpositions-1\n",
        "positions = trade_client.get_all_positions()\n",
        "positions"
      ]
    },
    {
      "cell_type": "code",
      "execution_count": null,
      "metadata": {
        "id": "OjCjUcYTJbRe"
      },
      "outputs": [],
      "source": [
        "# get positions by symbol\n",
        "# ref. https://docs.alpaca.markets/reference/getopenposition-1\n",
        "position = trade_client.get_open_position(symbol_or_asset_id=symbol)\n",
        "position\n"
      ]
    },
    {
      "cell_type": "code",
      "execution_count": null,
      "metadata": {
        "id": "VWzszsVXJbRe"
      },
      "outputs": [],
      "source": [
        "# get positions by asset_id\n",
        "trade_client.get_open_position(symbol_or_asset_id=position.asset_id)"
      ]
    },
    {
      "cell_type": "code",
      "execution_count": null,
      "metadata": {
        "id": "4AfgvN8TJbRe"
      },
      "outputs": [],
      "source": [
        "# close the position with specifying qty\n",
        "# ref. https://docs.alpaca.markets/reference/deleteopenposition-1\n",
        "trade_client.close_position(\n",
        "    symbol_or_asset_id = symbol,\n",
        "    close_options = ClosePositionRequest(\n",
        "        qty = \"0.01\",\n",
        "    )\n",
        ")"
      ]
    },
    {
      "cell_type": "markdown",
      "metadata": {
        "id": "Se6LGQAEJbRe"
      },
      "source": [
        "# Trade Update (Stream)"
      ]
    },
    {
      "cell_type": "markdown",
      "metadata": {
        "id": "68JjYUmMJbRe"
      },
      "source": [
        "With TradingStream client, you can get updates about trades\n",
        "\n",
        "You can open this notebook in another window and run below cell to check trade updates."
      ]
    },
    {
      "cell_type": "code",
      "execution_count": null,
      "metadata": {
        "id": "rNDa6TaDJbRe"
      },
      "outputs": [],
      "source": [
        "# subscribe trade updates\n",
        "trade_stream_client = TradingStream(api_key, secret_key, paper=paper, url_override = trade_api_wss)\n",
        "\n",
        "async def trade_updates_handler(data):\n",
        "    print(data)\n",
        "\n",
        "trade_stream_client.subscribe_trade_updates(trade_updates_handler)\n",
        "trade_stream_client.run()"
      ]
    },
    {
      "cell_type": "markdown",
      "metadata": {
        "id": "HRfVAkTGJbRe"
      },
      "source": [
        "# Market Data (Historical)"
      ]
    },
    {
      "cell_type": "code",
      "execution_count": null,
      "metadata": {
        "id": "k27YlmiNJbRe"
      },
      "outputs": [],
      "source": [
        "# setup stock historical data client\n",
        "stock_historical_data_client = StockHistoricalDataClient(api_key, secret_key, url_override = data_api_url)"
      ]
    },
    {
      "cell_type": "code",
      "execution_count": null,
      "metadata": {
        "id": "GRw_bZq1JbRh"
      },
      "outputs": [],
      "source": [
        "# get historical bars by symbol\n",
        "# ref. https://docs.alpaca.markets/reference/stockbars-1\n",
        "now = datetime.now(ZoneInfo(\"America/New_York\"))\n",
        "req = StockBarsRequest(\n",
        "    symbol_or_symbols = [symbol],\n",
        "    timeframe=TimeFrame(amount = 1, unit = TimeFrameUnit.Hour), # specify timeframe\n",
        "    start = now - timedelta(days = 5),                          # specify start datetime, default=the beginning of the current day.\n",
        "    # end_date=None,                                        # specify end datetime, default=now\n",
        "    limit = 2,                                               # specify limit\n",
        ")\n",
        "stock_historical_data_client.get_stock_bars(req).df"
      ]
    },
    {
      "cell_type": "code",
      "execution_count": null,
      "metadata": {
        "id": "TMepo80DJbRh"
      },
      "outputs": [],
      "source": [
        "# get historical trades by symbol\n",
        "req = StockTradesRequest(\n",
        "    symbol_or_symbols = [symbol],\n",
        "    start = now - timedelta(days = 5),                          # specify start datetime, default=the beginning of the current day.\n",
        "    # end=None,                                             # specify end datetime, default=now\n",
        "    limit = 2,                                                # specify limit\n",
        ")\n",
        "stock_historical_data_client.get_stock_trades(req).df"
      ]
    },
    {
      "cell_type": "code",
      "execution_count": null,
      "metadata": {
        "id": "L28Z9ZROJbRh"
      },
      "outputs": [],
      "source": [
        "# get historical quotes by symbol\n",
        "req = StockQuotesRequest(\n",
        "    symbol_or_symbols = [symbol],\n",
        "    start = now - timedelta(days = 5),                      # specify start datetime, default=the beginning of the current day.\n",
        "    # end=None,                                             # specify end datetime, default=now\n",
        "    limit = 2,                                              # specify limit\n",
        ")\n",
        "stock_historical_data_client.get_stock_quotes(req).df"
      ]
    },
    {
      "cell_type": "code",
      "execution_count": null,
      "metadata": {
        "id": "qk9ZXnZGJbRh"
      },
      "outputs": [],
      "source": [
        "# get latest quotes by symbol\n",
        "req = StockQuotesRequest(\n",
        "    symbol_or_symbols = [symbol],\n",
        ")\n",
        "res = stock_historical_data_client.get_stock_latest_quote(req)\n",
        "res"
      ]
    },
    {
      "cell_type": "markdown",
      "metadata": {
        "id": "XoOrpTABJbRh"
      },
      "source": [
        "# Market Data (Stream)"
      ]
    },
    {
      "cell_type": "code",
      "execution_count": null,
      "metadata": {
        "id": "_vhn1SGGJbRh"
      },
      "outputs": [],
      "source": [
        "stock_data_stream_client = StockDataStream(api_key, secret_key, url_override = stream_data_wss)\n",
        "\n",
        "async def stock_data_stream_handler(data):\n",
        "    print(data)\n",
        "\n",
        "symbols = [symbol]\n",
        "\n",
        "stock_data_stream_client.subscribe_quotes(stock_data_stream_handler, *symbols)\n",
        "stock_data_stream_client.subscribe_trades(stock_data_stream_handler, *symbols)\n",
        "\n",
        "stock_data_stream_client.run()"
      ]
    },
    {
      "cell_type": "markdown",
      "metadata": {
        "id": "DcPOa3pAJbRh"
      },
      "source": [
        "# Corporate actions"
      ]
    },
    {
      "cell_type": "code",
      "execution_count": null,
      "metadata": {
        "id": "hXzX49SAJbRi"
      },
      "outputs": [],
      "source": [
        "corporate_actions_client = CorporateActionsClient(api_key, secret_key)\n",
        "corporate_actions_client.get_corporate_actions(CorporateActionsRequest(\n",
        "    start=datetime(2020, 1, 1),\n",
        "    symbols=[symbol]\n",
        ")).df"
      ]
    }
  ],
  "metadata": {
    "kernelspec": {
      "display_name": "alpaca-py",
      "language": "python",
      "name": "python3"
    },
    "language_info": {
      "codemirror_mode": {
        "name": "ipython",
        "version": 3
      },
      "file_extension": ".py",
      "mimetype": "text/x-python",
      "name": "python",
      "nbconvert_exporter": "python",
      "pygments_lexer": "ipython3",
      "version": "3.11.9"
    },
    "colab": {
      "provenance": []
    }
  },
  "nbformat": 4,
  "nbformat_minor": 0
}